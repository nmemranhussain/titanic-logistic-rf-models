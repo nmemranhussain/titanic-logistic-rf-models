{
 "cells": [
  {
   "cell_type": "markdown",
   "id": "09ec726a-0d8a-4c0d-8119-03b8b633df77",
   "metadata": {},
   "source": [
    "### Basic EDA"
   ]
  },
  {
   "cell_type": "code",
   "execution_count": 83,
   "id": "6eb32fbd-3262-4670-9d28-ebfb76d2a409",
   "metadata": {},
   "outputs": [
    {
     "name": "stdout",
     "output_type": "stream",
     "text": [
      "<class 'pandas.core.frame.DataFrame'>\n",
      "RangeIndex: 891 entries, 0 to 890\n",
      "Data columns (total 12 columns):\n",
      " #   Column       Non-Null Count  Dtype  \n",
      "---  ------       --------------  -----  \n",
      " 0   PassengerId  891 non-null    int64  \n",
      " 1   Survived     891 non-null    int64  \n",
      " 2   Pclass       891 non-null    int64  \n",
      " 3   Name         891 non-null    object \n",
      " 4   Sex          891 non-null    object \n",
      " 5   Age          714 non-null    float64\n",
      " 6   SibSp        891 non-null    int64  \n",
      " 7   Parch        891 non-null    int64  \n",
      " 8   Ticket       891 non-null    object \n",
      " 9   Fare         891 non-null    float64\n",
      " 10  Cabin        204 non-null    object \n",
      " 11  Embarked     889 non-null    object \n",
      "dtypes: float64(2), int64(5), object(5)\n",
      "memory usage: 83.7+ KB\n",
      "Number of rows in Training Data: 712\n",
      "Number of rows in Validation Data: 179\n",
      "    Column Name Modeling Role Measurement Level  \\\n",
      "0   PassengerId    Identifier           Nominal   \n",
      "1      Survived       Feature            Binary   \n",
      "2        Pclass       Feature           Ordinal   \n",
      "3          Name       Feature           Nominal   \n",
      "4           Sex       Feature           Nominal   \n",
      "5           Age       Feature        Continuous   \n",
      "6         SibSp       Feature        Continuous   \n",
      "7         Parch       Feature        Continuous   \n",
      "8        Ticket       Feature           Nominal   \n",
      "9          Fare       Feature        Continuous   \n",
      "10        Cabin       Feature           Nominal   \n",
      "11     Embarked       Feature           Nominal   \n",
      "\n",
      "                                          Description  \n",
      "0                        Unique ID for each passenger  \n",
      "1            1 if the passenger survived, 0 otherwise  \n",
      "2                     Passenger class (1st, 2nd, 3rd)  \n",
      "3                               Name of the passenger  \n",
      "4               Gender of the passenger (Male/Female)  \n",
      "5                                Age of the passenger  \n",
      "6                   Number of siblings/spouses aboard  \n",
      "7                   Number of parents/children aboard  \n",
      "8                                       Ticket number  \n",
      "9                          Fare paid by the passenger  \n",
      "10                                       Cabin number  \n",
      "11  Port of embarkation (C = Cherbourg, Q = Queens...  \n"
     ]
    }
   ],
   "source": [
    "# Total Number of Samples, Number of Rows in Training Data, Number of Rows in Validation Data\n",
    "import pandas as pd\n",
    "from sklearn.model_selection import train_test_split\n",
    "\n",
    "# Load the data\n",
    "train_data = pd.read_csv('titanic_train.csv')\n",
    "\n",
    "# Display the first few rows of the train dataset and check for missing values\n",
    "train_data.info(), train_data.head(), train_data.isnull().sum()\n",
    "\n",
    "# Split the data into training and validation sets (80% train, 20% validation)\n",
    "train_set, val_set = train_test_split(train_data, test_size=0.2, random_state=42)\n",
    "\n",
    "# Display the number of rows in each set\n",
    "print(f\"Number of rows in Training Data: {len(train_set)}\")\n",
    "print(f\"Number of rows in Validation Data: {len(val_set)}\")\n",
    "\n",
    "# Generate Data Dictionary\n",
    "data_dictionary = pd.DataFrame({\n",
    "    'Column Name': train_data.columns,\n",
    "    'Modeling Role': ['Identifier' if col == 'PassengerId' else 'Feature' for col in train_data.columns],\n",
    "    'Measurement Level': [\n",
    "        'Nominal' if col in ['PassengerId', 'Name', 'Sex', 'Ticket', 'Cabin', 'Embarked'] \n",
    "        else 'Ordinal' if col == 'Pclass' \n",
    "        else 'Binary' if col == 'Survived' \n",
    "        else 'Continuous'\n",
    "        for col in train_data.columns\n",
    "    ],\n",
    "    'Description': [\n",
    "        'Unique ID for each passenger' if col == 'PassengerId' else\n",
    "        '1 if the passenger survived, 0 otherwise' if col == 'Survived' else\n",
    "        'Passenger class (1st, 2nd, 3rd)' if col == 'Pclass' else\n",
    "        'Name of the passenger' if col == 'Name' else\n",
    "        'Gender of the passenger (Male/Female)' if col == 'Sex' else\n",
    "        'Age of the passenger' if col == 'Age' else\n",
    "        'Number of siblings/spouses aboard' if col == 'SibSp' else\n",
    "        'Number of parents/children aboard' if col == 'Parch' else\n",
    "        'Ticket number' if col == 'Ticket' else\n",
    "        'Fare paid by the passenger' if col == 'Fare' else\n",
    "        'Cabin number' if col == 'Cabin' else\n",
    "        'Port of embarkation (C = Cherbourg, Q = Queenstown, S = Southampton)' if col == 'Embarked' else ''\n",
    "        for col in train_data.columns\n",
    "    ]\n",
    "})\n",
    "\n",
    "# Display the Data Dictionary\n",
    "print(data_dictionary)\n"
   ]
  },
  {
   "cell_type": "code",
   "execution_count": null,
   "id": "f98fb87c-3041-48ea-8e9a-02df1b8be4da",
   "metadata": {},
   "outputs": [],
   "source": [
    "# Total Number of Samples is 891, Number of Rows in Training Data is 712, Number of Rows in Validation Data is 179"
   ]
  },
  {
   "cell_type": "markdown",
   "id": "09605086-5791-40aa-9207-75d1546569a4",
   "metadata": {},
   "source": [
    "### Data prep and fit model"
   ]
  },
  {
   "cell_type": "code",
   "execution_count": 43,
   "id": "cc8a3c0c-42d7-4510-9ea3-eedd037dbc57",
   "metadata": {},
   "outputs": [
    {
     "name": "stdout",
     "output_type": "stream",
     "text": [
      "Features used in the model: ['Pclass', 'Age', 'SibSp', 'Parch', 'Fare', 'Sex_male', 'Embarked_Q', 'Embarked_S']\n",
      "Target column: Survived\n",
      "Model type: Logistic Regression\n",
      "Hyperparameters: Solver = lbfgs, Max iterations = 500, C = 1.0\n",
      "Software used: scikit-learn sklearn.linear_model._logistic\n"
     ]
    }
   ],
   "source": [
    "# Model Details\n",
    "import pandas as pd\n",
    "from sklearn.linear_model import LogisticRegression\n",
    "from sklearn.model_selection import train_test_split\n",
    "\n",
    "# Load the dataset\n",
    "train_data = pd.read_csv('titanic_train.csv')\n",
    "test_data = pd.read_csv('titanic_test.csv')\n",
    "\n",
    "# Select feature columns and target\n",
    "features = ['Pclass', 'Sex', 'Age', 'SibSp', 'Parch', 'Fare', 'Embarked']\n",
    "target = 'Survived'\n",
    "\n",
    "# Preprocessing (Handling missing values and encoding categorical variables)\n",
    "train_data['Age'].fillna(train_data['Age'].median(), inplace=False)\n",
    "train_data['Embarked'].fillna(train_data['Embarked'].mode()[0], inplace=False)\n",
    "test_data['Age'].fillna(test_data['Age'].median(), inplace=False)\n",
    "test_data['Embarked'].fillna(test_data['Embarked'].mode()[0], inplace=False)\n",
    "\n",
    "# Apply loc to avoid chained assignment warnings\n",
    "train_data.loc[:, 'Age'] = train_data['Age'].fillna(train_data['Age'].median())\n",
    "train_data.loc[:, 'Embarked'] = train_data['Embarked'].fillna(train_data['Embarked'].mode()[0])\n",
    "test_data.loc[:, 'Age'] = test_data['Age'].fillna(test_data['Age'].median())\n",
    "test_data.loc[:, 'Embarked'] = test_data['Embarked'].fillna(test_data['Embarked'].mode()[0])\n",
    "test_data.loc[:, 'Fare'] = test_data['Fare'].fillna(test_data['Fare'].mode()[0])\n",
    "\n",
    "# Encode categorical variables 'Sex' and 'Embarked' using pd.get_dummies\n",
    "train_data_encoded = pd.get_dummies(train_data, columns=['Sex', 'Embarked'], drop_first=True)\n",
    "test_data_encoded = pd.get_dummies(test_data, columns=['Sex', 'Embarked'], drop_first=True)\n",
    "\n",
    "# Update the features list to include the new encoded column names\n",
    "encoded_features = ['Pclass', 'Age', 'SibSp', 'Parch', 'Fare', 'Sex_male', 'Embarked_Q', 'Embarked_S']\n",
    "\n",
    "# Split the data into training and validation sets\n",
    "X = train_data_encoded[encoded_features]\n",
    "y = train_data_encoded[target]\n",
    "X_train, X_val, y_train, y_val = train_test_split(X, y, test_size=0.2, random_state=42)\n",
    "\n",
    "# Initialize the Logistic Regression model and increase max_iter\n",
    "model = LogisticRegression(solver='lbfgs', max_iter=500)  # Increased max_iter to avoid convergence warning\n",
    "\n",
    "# Fit the model\n",
    "model.fit(X_train, y_train)\n",
    "\n",
    "# Output model details\n",
    "print(f\"Features used in the model: {encoded_features}\")\n",
    "print(f\"Target column: {target}\")\n",
    "print(f\"Model type: Logistic Regression\")\n",
    "print(f\"Hyperparameters: Solver = {model.solver}, Max iterations = {model.max_iter}, C = {model.C}\")\n",
    "print(f\"Software used: scikit-learn {model.__module__}\")\n"
   ]
  },
  {
   "cell_type": "code",
   "execution_count": 75,
   "id": "2af23e77-8bd9-4087-9234-b81ef4094893",
   "metadata": {},
   "outputs": [],
   "source": [
    "# test_data_encoded.isnull().any()"
   ]
  },
  {
   "cell_type": "markdown",
   "id": "d9d079be-1e2e-4f8e-b83d-cd7fc2c64269",
   "metadata": {},
   "source": [
    "### Assess model performance"
   ]
  },
  {
   "cell_type": "code",
   "execution_count": 63,
   "id": "9a4971dc-1ff3-4578-a05e-b2bf9d252b00",
   "metadata": {},
   "outputs": [
    {
     "name": "stdout",
     "output_type": "stream",
     "text": [
      "0.7787078122899019\n",
      "0.8001930501930502\n"
     ]
    }
   ],
   "source": [
    "y_train_pred = model.predict(X_train[['Pclass', 'Age', 'SibSp', 'Parch', 'Fare', 'Sex_male', 'Embarked_Q', 'Embarked_S']])\n",
    "y_val_pred = model.predict(X_val[['Pclass', 'Age', 'SibSp', 'Parch', 'Fare', 'Sex_male', 'Embarked_Q', 'Embarked_S']])\n",
    "train_auc = roc_auc_score(y_train, y_train_pred)\n",
    "valid_auc = roc_auc_score(y_val, y_val_pred)\n",
    "print(train_auc)\n",
    "print(valid_auc)\n",
    "\n",
    "# test from Kaggle: 0.76315"
   ]
  },
  {
   "cell_type": "markdown",
   "id": "5564d8f3-7564-4db8-88f8-d2d46f470ed5",
   "metadata": {},
   "source": [
    "### Generate Kaggle submission file "
   ]
  },
  {
   "cell_type": "code",
   "execution_count": 67,
   "id": "957e59bc-624e-4ef4-9009-5fe736170e0a",
   "metadata": {},
   "outputs": [
    {
     "data": {
      "text/html": [
       "<div>\n",
       "<style scoped>\n",
       "    .dataframe tbody tr th:only-of-type {\n",
       "        vertical-align: middle;\n",
       "    }\n",
       "\n",
       "    .dataframe tbody tr th {\n",
       "        vertical-align: top;\n",
       "    }\n",
       "\n",
       "    .dataframe thead th {\n",
       "        text-align: right;\n",
       "    }\n",
       "</style>\n",
       "<table border=\"1\" class=\"dataframe\">\n",
       "  <thead>\n",
       "    <tr style=\"text-align: right;\">\n",
       "      <th></th>\n",
       "      <th>PassengerId</th>\n",
       "      <th>Survived</th>\n",
       "    </tr>\n",
       "  </thead>\n",
       "  <tbody>\n",
       "    <tr>\n",
       "      <th>0</th>\n",
       "      <td>892</td>\n",
       "      <td>0</td>\n",
       "    </tr>\n",
       "    <tr>\n",
       "      <th>1</th>\n",
       "      <td>893</td>\n",
       "      <td>0</td>\n",
       "    </tr>\n",
       "    <tr>\n",
       "      <th>2</th>\n",
       "      <td>894</td>\n",
       "      <td>0</td>\n",
       "    </tr>\n",
       "    <tr>\n",
       "      <th>3</th>\n",
       "      <td>895</td>\n",
       "      <td>0</td>\n",
       "    </tr>\n",
       "    <tr>\n",
       "      <th>4</th>\n",
       "      <td>896</td>\n",
       "      <td>1</td>\n",
       "    </tr>\n",
       "    <tr>\n",
       "      <th>...</th>\n",
       "      <td>...</td>\n",
       "      <td>...</td>\n",
       "    </tr>\n",
       "    <tr>\n",
       "      <th>413</th>\n",
       "      <td>1305</td>\n",
       "      <td>0</td>\n",
       "    </tr>\n",
       "    <tr>\n",
       "      <th>414</th>\n",
       "      <td>1306</td>\n",
       "      <td>1</td>\n",
       "    </tr>\n",
       "    <tr>\n",
       "      <th>415</th>\n",
       "      <td>1307</td>\n",
       "      <td>0</td>\n",
       "    </tr>\n",
       "    <tr>\n",
       "      <th>416</th>\n",
       "      <td>1308</td>\n",
       "      <td>0</td>\n",
       "    </tr>\n",
       "    <tr>\n",
       "      <th>417</th>\n",
       "      <td>1309</td>\n",
       "      <td>0</td>\n",
       "    </tr>\n",
       "  </tbody>\n",
       "</table>\n",
       "<p>418 rows × 2 columns</p>\n",
       "</div>"
      ],
      "text/plain": [
       "     PassengerId  Survived\n",
       "0            892         0\n",
       "1            893         0\n",
       "2            894         0\n",
       "3            895         0\n",
       "4            896         1\n",
       "..           ...       ...\n",
       "413         1305         0\n",
       "414         1306         1\n",
       "415         1307         0\n",
       "416         1308         0\n",
       "417         1309         0\n",
       "\n",
       "[418 rows x 2 columns]"
      ]
     },
     "execution_count": 67,
     "metadata": {},
     "output_type": "execute_result"
    }
   ],
   "source": [
    "submit = pd.DataFrame(columns=['PassengerId', 'Survived'])\n",
    "submit['PassengerId'] = test_data_encoded['PassengerId']\n",
    "submit['Survived'] = model.predict(test_data_encoded[['Pclass', 'Age', 'SibSp', 'Parch', 'Fare', 'Sex_male', 'Embarked_Q', 'Embarked_S']])\n",
    "submit.to_csv('C:\\\\Users\\\\nmemr\\\\OneDrive\\\\Desktop\\\\submit.csv', index=False)\n",
    "submit"
   ]
  },
  {
   "cell_type": "code",
   "execution_count": 77,
   "id": "3b2ee1bd-df12-43c5-8034-0bb6c81400c3",
   "metadata": {},
   "outputs": [
    {
     "data": {
      "image/png": "[encoded data removed]",
      "text/plain": [
       "<Figure size 800x600 with 1 Axes>"
      ]
     },
     "metadata": {},
     "output_type": "display_data"
    },
    {
     "data": {
      "image/png": "[encoded data removed]",
      "text/plain": [
       "<Figure size 800x600 with 1 Axes>"
      ]
     },
     "metadata": {},
     "output_type": "display_data"
    },
    {
     "data": {
      "image/png": "[encoded data removed]",
      "text/plain": [
       "<Figure size 800x600 with 1 Axes>"
      ]
     },
     "metadata": {},
     "output_type": "display_data"
    }
   ],
   "source": [
    "# Plot of survival rate by passenger's class, gender and age groups\n",
    "import seaborn as sns\n",
    "import matplotlib.pyplot as plt\n",
    "\n",
    "# Plotting survival rate by Pclass\n",
    "plt.figure(figsize=(8, 6))\n",
    "sns.barplot(x='Pclass', y='Survived', data=train_data)\n",
    "plt.title('Survival Rate by Passenger Class')\n",
    "plt.ylabel('Survival Rate')\n",
    "plt.show()\n",
    "\n",
    "# Plotting survival rate by Sex\n",
    "plt.figure(figsize=(8, 6))\n",
    "sns.barplot(x='Sex', y='Survived', data=train_data)\n",
    "plt.title('Survival Rate by Gender')\n",
    "plt.ylabel('Survival Rate')\n",
    "plt.show()\n",
    "\n",
    "# Creating age groups to plot survival rate by age\n",
    "train_data['AgeGroup'] = pd.cut(train_data['Age'], bins=[0, 12, 18, 30, 50, 80], labels=['Child', 'Teenager', 'Young Adult', 'Adult', 'Senior'])\n",
    "\n",
    "# Plotting survival rate by AgeGroup\n",
    "plt.figure(figsize=(8, 6))\n",
    "sns.barplot(x='AgeGroup', y='Survived', data=train_data)\n",
    "plt.title('Survival Rate by Age Group')\n",
    "plt.ylabel('Survival Rate')\n",
    "plt.show()"
   ]
  },
  {
   "cell_type": "code",
   "execution_count": null,
   "id": "958e4abe-5a1e-437c-86a1-3863c8bf285a",
   "metadata": {},
   "outputs": [],
   "source": [
    "# Passengers in 1st class had the highest survival rate, followed by those in 2nd class. 3rd class passengers had the lowest survival rate.\n",
    "# Females had a significantly higher survival rate than males, aligning with the negative coefficient for the \"Sex\" feature in the logistic regression model.\n",
    "# Children (ages 0-12) had the highest survival rate, while seniors (ages 50-80) had the lowest. Young adults and adults had relatively similar survival rates, though slightly lower than children."
   ]
  },
  {
   "cell_type": "code",
   "execution_count": null,
   "id": "3b264685-42a2-40b9-990c-0d6ae76a7bca",
   "metadata": {},
   "outputs": [],
   "source": []
  },
  {
   "cell_type": "code",
   "execution_count": null,
   "id": "c0dfa2cf-a6fd-4f37-8478-af844bf36457",
   "metadata": {},
   "outputs": [],
   "source": []
  }
 ],
 "metadata": {
  "kernelspec": {
   "display_name": "Python 3 (ipykernel)",
   "language": "python",
   "name": "python3"
  },
  "language_info": {
   "codemirror_mode": {
    "name": "ipython",
    "version": 3
   },
   "file_extension": ".py",
   "mimetype": "text/x-python",
   "name": "python",
   "nbconvert_exporter": "python",
   "pygments_lexer": "ipython3",
   "version": "3.12.4"
  }
 },
 "nbformat": 4,
 "nbformat_minor": 5
}
